{
 "cells": [
  {
   "cell_type": "code",
   "execution_count": 1,
   "id": "334aa6e0-833f-4c54-866f-5d3eb6601483",
   "metadata": {},
   "outputs": [
    {
     "ename": "ERROR",
     "evalue": "Error in library(leaflet): es gibt kein Paket namens ‘leaflet’\n",
     "output_type": "error",
     "traceback": [
      "Error in library(leaflet): es gibt kein Paket namens ‘leaflet’\nTraceback:\n",
      "1. library(leaflet)"
     ]
    }
   ],
   "source": [
    "# Load necessary libraries\n",
    "library(leaflet)\n",
    "\n",
    "# Create a leaflet map\n",
    "india_map <- leaflet() %>%\n",
    "  addTiles() %>%\n",
    "  setView(lng = 78.9629, lat = 20.5937, zoom = 5)  \n",
    "# Sample data with top cities of India\n",
    "cities_data <- data.frame(\n",
    "  city = c(\"Mumbai\", \"Delhi\", \"Bangalore\", \"Hyderabad\", \"Chennai\", \"Kolkata\"),\n",
    "  lat = c(19.0760, 28.6139, 12.9716, 17.3850, 13.0827, 22.5726),\n",
    "  lng = c(72.8777, 77.2090, 77.5946, 78.4867, 80.2707, 88.3639),\n",
    "  population = c(12442373, 11034555, 8443675, 6772291, 4681087, 4486679)\n",
    ")\n",
    "\n",
    "# Add circle markers for each city\n",
    "india_map <- india_map %>%\n",
    "  addCircleMarkers(\n",
    "    data = cities_data,\n",
    "    lng = ~lng,\n",
    "    lat = ~lat,\n",
    "    radius = ~sqrt(population) * 0.01,\n",
    "    color = \"orange\",\n",
    "    fillOpacity = 0.7,\n",
    "    popup = ~paste(\"City: \", city, \"<br>Population: \", population)\n",
    "  )\n",
    "\n",
    "# Display the map\n",
    "india_map"
   ]
  },
  {
   "cell_type": "code",
   "execution_count": 2,
   "id": "1cbb11dc-4283-4eb2-be5d-413b36e4096d",
   "metadata": {},
   "outputs": [
    {
     "name": "stderr",
     "output_type": "stream",
     "text": [
      "Warning message in install.packages(\"terra\"):\n",
      "“Installation des Pakets ‘terra’ hatte Exit-Status ungleich 0”\n",
      "Aktualisiere HTML-Index der Pakete in '.Library'\n",
      "\n",
      "Making 'packages.html' ...\n",
      " fertig\n",
      "\n"
     ]
    }
   ],
   "source": [
    "install.packages(\"terra\")"
   ]
  },
  {
   "cell_type": "code",
   "execution_count": 3,
   "id": "7f691543-15e3-41c9-b453-82f185f1ca7d",
   "metadata": {},
   "outputs": [
    {
     "ename": "ERROR",
     "evalue": "Error in library(\"terra\"): es gibt kein Paket namens ‘terra’\n",
     "output_type": "error",
     "traceback": [
      "Error in library(\"terra\"): es gibt kein Paket namens ‘terra’\nTraceback:\n",
      "1. library(\"terra\")"
     ]
    }
   ],
   "source": [
    "library(\"terra\")"
   ]
  },
  {
   "cell_type": "code",
   "execution_count": 4,
   "id": "d13f80bf-df6f-4243-bddd-f67c1122be31",
   "metadata": {},
   "outputs": [
    {
     "ename": "ERROR",
     "evalue": "Error in library(\"raster\"): es gibt kein Paket namens ‘raster’\n",
     "output_type": "error",
     "traceback": [
      "Error in library(\"raster\"): es gibt kein Paket namens ‘raster’\nTraceback:\n",
      "1. library(\"raster\")"
     ]
    }
   ],
   "source": [
    "library(\"raster\")"
   ]
  },
  {
   "cell_type": "code",
   "execution_count": null,
   "id": "42954e7f-ca42-4e41-aef9-f97238f40ccc",
   "metadata": {},
   "outputs": [],
   "source": []
  }
 ],
 "metadata": {
  "kernelspec": {
   "display_name": "R",
   "language": "R",
   "name": "ir"
  },
  "language_info": {
   "codemirror_mode": "r",
   "file_extension": ".r",
   "mimetype": "text/x-r-source",
   "name": "R",
   "pygments_lexer": "r",
   "version": "4.2.3"
  }
 },
 "nbformat": 4,
 "nbformat_minor": 5
}
