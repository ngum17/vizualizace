{
 "cells": [
  {
   "cell_type": "code",
   "execution_count": 3,
   "id": "add9ae33-22aa-4c16-81a8-76d038b27234",
   "metadata": {},
   "outputs": [
    {
     "name": "stdout",
     "output_type": "stream",
     "text": [
      "warning: function /Users/Frost/.local/share/octave/api-v58/packages/statistics-1.6.5/shadow9/mad.m shadows a core library function\n",
      "warning: called from\n",
      "    /Users/Frost/.local/share/octave/api-v58/packages/statistics-1.6.5/PKG_ADD at line 15 column 3\n",
      "    load_packages_and_dependencies at line 56 column 5\n",
      "    load_packages at line 53 column 3\n",
      "    pkg at line 639 column 7\n",
      "\n",
      "warning: function /Users/Frost/.local/share/octave/api-v58/packages/statistics-1.6.5/shadow9/mean.m shadows a core library function\n",
      "warning: called from\n",
      "    /Users/Frost/.local/share/octave/api-v58/packages/statistics-1.6.5/PKG_ADD at line 15 column 3\n",
      "    load_packages_and_dependencies at line 56 column 5\n",
      "    load_packages at line 53 column 3\n",
      "    pkg at line 639 column 7\n",
      "\n",
      "warning: function /Users/Frost/.local/share/octave/api-v58/packages/statistics-1.6.5/shadow9/median.m shadows a core library function\n",
      "warning: called from\n",
      "    /Users/Frost/.local/share/octave/api-v58/packages/statistics-1.6.5/PKG_ADD at line 15 column 3\n",
      "    load_packages_and_dependencies at line 56 column 5\n",
      "    load_packages at line 53 column 3\n",
      "    pkg at line 639 column 7\n",
      "\n",
      "warning: function /Users/Frost/.local/share/octave/api-v58/packages/statistics-1.6.5/shadow9/std.m shadows a core library function\n",
      "warning: called from\n",
      "    /Users/Frost/.local/share/octave/api-v58/packages/statistics-1.6.5/PKG_ADD at line 15 column 3\n",
      "    load_packages_and_dependencies at line 56 column 5\n",
      "    load_packages at line 53 column 3\n",
      "    pkg at line 639 column 7\n",
      "\n",
      "warning: function /Users/Frost/.local/share/octave/api-v58/packages/statistics-1.6.5/shadow9/var.m shadows a core library function\n",
      "warning: called from\n",
      "    /Users/Frost/.local/share/octave/api-v58/packages/statistics-1.6.5/PKG_ADD at line 15 column 3\n",
      "    load_packages_and_dependencies at line 56 column 5\n",
      "    load_packages at line 53 column 3\n",
      "    pkg at line 639 column 7\n",
      "\n",
      "Time elapsed is 19.449766 seconds\n"
     ]
    },
    {
     "data": {
      "image/png": "[encoded data removed]",
      "text/plain": [
       "<IPython.core.display.Image object>"
      ]
     },
     "metadata": {},
     "output_type": "display_data"
    }
   ],
   "source": [
    "% Start the timer\n",
    "tic;\n",
    "\n",
    "% Load the necessary package\n",
    "pkg load statistics\n",
    "\n",
    "% Switch to the gnuplot graphics toolkit\n",
    "graphics_toolkit('gnuplot')\n",
    "\n",
    "% Load the data\n",
    "data = csvread(\"data/penguins.csv\");\n",
    "\n",
    "% Extract columns 3 to 6\n",
    "numeric_data = data(:, 3:6);\n",
    "\n",
    "% Replace NaN values with zeros\n",
    "numeric_data(isnan(numeric_data)) = 0;\n",
    "\n",
    "% Calculate the correlation matrix\n",
    "corr_matrix = corr(numeric_data);\n",
    "\n",
    "% Create a larger figure\n",
    "figure('Position', [0 0 400 400]);  % Adjust the position and size as needed\n",
    "\n",
    "% Plot the heatmap\n",
    "imagesc(corr_matrix);\n",
    "\n",
    "% Define column labels for columns 3 to 6\n",
    "column_labels = {'bill\\\\_length\\\\_mm', 'bill\\\\_depth\\\\_mm', 'flipper\\\\_length\\\\_mm', 'body\\\\_mass\\\\_g'};\n",
    "\n",
    "% Add ticks and labels for each feature\n",
    "xticks(1:size(corr_matrix, 1));\n",
    "yticks(1:size(corr_matrix, 2));\n",
    "\n",
    "% Set labels for x-axis ticks with smaller font size\n",
    "xticklabels(column_labels);\n",
    "set(gca, 'FontSize', 8); % Set font size for x-axis labels\n",
    "\n",
    "% Set labels for y-axis ticks with smaller font size\n",
    "yticklabels(column_labels);\n",
    "set(gca, 'FontSize', 8); % Set font size for y-axis labels\n",
    "\n",
    "% Add values of correlation\n",
    "for i = 1:size(corr_matrix, 1)\n",
    "    for j = 1:size(corr_matrix, 2)\n",
    "        text(j, i, num2str(corr_matrix(i, j), '%.2f'), ...\n",
    "            'HorizontalAlignment', 'center', 'VerticalAlignment', 'middle', 'FontSize', 8);\n",
    "    end\n",
    "end\n",
    "\n",
    "% Add a color bar\n",
    "colorbar;\n",
    "\n",
    "% Add a title\n",
    "title(\"Correlation Heatmap of Penguin Dataset\");\n",
    "\n",
    "% Stop the timer and display the elapsed time\n",
    "elapsed_time = toc;\n",
    "fprintf('Time elapsed is %f seconds\\n', elapsed_time);"
   ]
  },
  {
   "cell_type": "code",
   "execution_count": null,
   "id": "008d6a03-5562-4701-b830-15bf8a78d797",
   "metadata": {},
   "outputs": [],
   "source": []
  }
 ],
 "metadata": {
  "kernelspec": {
   "display_name": "Octave",
   "language": "octave",
   "name": "octave"
  },
  "language_info": {
   "file_extension": ".m",
   "help_links": [
    {
     "text": "GNU Octave",
     "url": "https://www.gnu.org/software/octave/support.html"
    },
    {
     "text": "Octave Kernel",
     "url": "https://github.com/Calysto/octave_kernel"
    },
    {
     "text": "MetaKernel Magics",
     "url": "https://metakernel.readthedocs.io/en/latest/source/README.html"
    }
   ],
   "mimetype": "text/x-octave",
   "name": "octave",
   "version": "8.2.0"
  }
 },
 "nbformat": 4,
 "nbformat_minor": 5
}
