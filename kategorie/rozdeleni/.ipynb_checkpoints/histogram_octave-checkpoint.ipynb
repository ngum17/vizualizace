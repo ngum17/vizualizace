{
 "cells": [
  {
   "cell_type": "code",
   "execution_count": 2,
   "id": "e1dd21de-e3b3-4523-b252-45d9d1a31c08",
   "metadata": {},
   "outputs": [
    {
     "name": "stdout",
     "output_type": "stream",
     "text": [
      "Time elapsed is 9.595640 seconds\n"
     ]
    },
    {
     "data": {
      "image/png": "[encoded data removed]",
      "text/plain": [
       "<IPython.core.display.Image object>"
      ]
     },
     "metadata": {},
     "output_type": "display_data"
    }
   ],
   "source": [
    "% Start the timer\n",
    "tic;\n",
    "\n",
    "% Switch to the gnuplot graphics toolkit\n",
    "graphics_toolkit('gnuplot')\n",
    "\n",
    "% Open the file for reading\n",
    "fileID = fopen('data/healthcare_dataset2.csv', 'r');\n",
    "\n",
    "% Read the data using textscan, specifying ';' as the delimiter\n",
    "data = textscan(fileID, '%*s %d %*[^\\n]', 'Delimiter', ';', 'HeaderLines', 1);\n",
    "\n",
    "% Close the file\n",
    "fclose(fileID);\n",
    "\n",
    "% Extract the ages column (assuming it's the second column)\n",
    "ages = data{1};\n",
    "\n",
    "% Create a new figure with specified width and height\n",
    "figure('Position', [0 0 300 300])\n",
    "\n",
    "% Define the bin edges\n",
    "bin_edges = 0:10:100;\n",
    "\n",
    "% Compute the histogram\n",
    "age_counts = histc(ages, bin_edges);\n",
    "\n",
    "% Plot the histogram\n",
    "bar(bin_edges, age_counts, 'histc','FaceColor', 'blue');\n",
    "title('Histogram of Ages')\n",
    "xlabel('Age')\n",
    "ylabel('Frequency')\n",
    "\n",
    "% Stop the timer and display the elapsed time\n",
    "elapsed_time = toc;\n",
    "fprintf('Time elapsed is %f seconds\\n', elapsed_time);"
   ]
  },
  {
   "cell_type": "code",
   "execution_count": null,
   "id": "983321cc-33d3-4b92-99a1-9ec76599a9af",
   "metadata": {},
   "outputs": [],
   "source": []
  }
 ],
 "metadata": {
  "kernelspec": {
   "display_name": "Octave",
   "language": "octave",
   "name": "octave"
  },
  "language_info": {
   "file_extension": ".m",
   "help_links": [
    {
     "text": "GNU Octave",
     "url": "https://www.gnu.org/software/octave/support.html"
    },
    {
     "text": "Octave Kernel",
     "url": "https://github.com/Calysto/octave_kernel"
    },
    {
     "text": "MetaKernel Magics",
     "url": "https://metakernel.readthedocs.io/en/latest/source/README.html"
    }
   ],
   "mimetype": "text/x-octave",
   "name": "octave",
   "version": "8.2.0"
  }
 },
 "nbformat": 4,
 "nbformat_minor": 5
}
