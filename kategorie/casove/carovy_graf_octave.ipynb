{
 "cells": [
  {
   "cell_type": "code",
   "execution_count": 2,
   "id": "e7b9918a-48bf-43f6-8466-e996eb11b9ff",
   "metadata": {},
   "outputs": [
    {
     "name": "stdout",
     "output_type": "stream",
     "text": [
      "Time elapsed is 8.849211 seconds\n"
     ]
    },
    {
     "data": {
      "image/png": "[encoded data removed]",
      "text/plain": [
       "<IPython.core.display.Image object>"
      ]
     },
     "metadata": {},
     "output_type": "display_data"
    }
   ],
   "source": [
    "% Start the timer\n",
    "tic;\n",
    "\n",
    "% Switch to the gnuplot graphics toolkit\n",
    "graphics_toolkit('gnuplot')\n",
    "\n",
    "% Read the CSV file\n",
    "fid = fopen('data/flights.csv', 'r');\n",
    "data = textscan(fid, '%d %s %d', 'Delimiter', ',', 'HeaderLines', 1);\n",
    "fclose(fid);\n",
    "\n",
    "% Extract year, month, and passengers columns\n",
    "year = data{1};\n",
    "month = data{2};\n",
    "passengers = data{3};\n",
    "\n",
    "% Filter the data for May flights\n",
    "may_indices = strcmp(month, 'May');\n",
    "may_year = year(may_indices);\n",
    "may_passengers = passengers(may_indices);\n",
    "\n",
    "% Create a new figure with specified width and height\n",
    "figure('Position', [0 0 400 400])\n",
    "\n",
    "% Create line plot\n",
    "plot(may_year, may_passengers);\n",
    "\n",
    "% Add title and labels\n",
    "title('Flights in May');\n",
    "xlabel('Year');\n",
    "ylabel('Passengers');\n",
    "\n",
    "% Stop the timer and display the elapsed time\n",
    "elapsed_time = toc;\n",
    "fprintf('Time elapsed is %f seconds\\n', elapsed_time);"
   ]
  },
  {
   "cell_type": "code",
   "execution_count": null,
   "id": "ce5a82a6-4d27-44a8-9c39-27d49d1d14c2",
   "metadata": {},
   "outputs": [],
   "source": []
  }
 ],
 "metadata": {
  "kernelspec": {
   "display_name": "Octave",
   "language": "octave",
   "name": "octave"
  },
  "language_info": {
   "file_extension": ".m",
   "help_links": [
    {
     "text": "GNU Octave",
     "url": "https://www.gnu.org/software/octave/support.html"
    },
    {
     "text": "Octave Kernel",
     "url": "https://github.com/Calysto/octave_kernel"
    },
    {
     "text": "MetaKernel Magics",
     "url": "https://metakernel.readthedocs.io/en/latest/source/README.html"
    }
   ],
   "mimetype": "text/x-octave",
   "name": "octave",
   "version": "8.2.0"
  }
 },
 "nbformat": 4,
 "nbformat_minor": 5
}
