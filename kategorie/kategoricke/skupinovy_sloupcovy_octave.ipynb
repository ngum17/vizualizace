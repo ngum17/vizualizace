{
 "cells": [
  {
   "cell_type": "code",
   "execution_count": 2,
   "id": "6f069516-c3b6-4959-8a6a-abf51c32e1a9",
   "metadata": {},
   "outputs": [
    {
     "name": "stdout",
     "output_type": "stream",
     "text": [
      "Time elapsed is 20.462363 seconds\n"
     ]
    },
    {
     "data": {
      "image/png": "[encoded data removed]",
      "text/plain": [
       "<IPython.core.display.Image object>"
      ]
     },
     "metadata": {},
     "output_type": "display_data"
    }
   ],
   "source": [
    "% Start the timer\n",
    "tic;\n",
    "\n",
    "% Open the file\n",
    "fid = fopen('data/penguins.csv');\n",
    "\n",
    "% Read the data\n",
    "data = textscan(fid, '%s %*s %*s %*s %f %*s %s', 'Delimiter', ',', 'HeaderLines', 1);\n",
    "\n",
    "% Close the file\n",
    "fclose(fid);\n",
    "\n",
    "% Extract the relevant columns\n",
    "species = data{1};\n",
    "flipper_length = data{2};\n",
    "sex = data{3};\n",
    "\n",
    "% Convert species and sex to numeric indices\n",
    "[species_labels,~,species] = unique(species);\n",
    "[sex_labels,~,sex] = unique(sex);\n",
    "\n",
    "% Calculate the mean flipper length for each species and sex\n",
    "mean_data = accumarray([species, sex], flipper_length, [], @mean);\n",
    "\n",
    "% Reshape the data into a matrix for plotting\n",
    "mean_data = reshape(mean_data, [max(species), max(sex)]);\n",
    "\n",
    "% Create a new figure with specified width and height\n",
    "figure('Position', [0 0 500 500])\n",
    "\n",
    "% Create a grouped bar chart\n",
    "h = bar(mean_data);\n",
    "\n",
    "% Set the title and labels\n",
    "title('Mean Flipper Length for 3 Penguin Species by Sex')\n",
    "xlabel('Species')\n",
    "ylabel('Mean Flipper Length (mm)')\n",
    "\n",
    "% Set the x-axis tick labels to the species names\n",
    "set(gca, 'XTickLabel', species_labels)\n",
    "\n",
    "% Add a legend and move it to the northeast corner\n",
    "legend(h, sex_labels, 'location', 'northeastoutside')\n",
    "\n",
    "legend boxoff\n",
    "\n",
    "% Add labels to the bars\n",
    "for i = 1:size(mean_data, 1)\n",
    "    for j = 1:size(mean_data, 2)\n",
    "        % Adjust the x-position based on the index of the sex\n",
    "        x_pos = i - 0.5 + j/(size(mean_data, 2)+1);\n",
    "        text(x_pos, mean_data(i, j), num2str(mean_data(i, j), '%.2f'), ...\n",
    "             'HorizontalAlignment', 'center', 'VerticalAlignment', 'bottom')\n",
    "    end\n",
    "end\n",
    "\n",
    "% Stop the timer and display the elapsed time\n",
    "elapsed_time = toc;\n",
    "fprintf('Time elapsed is %f seconds\\n', elapsed_time);"
   ]
  },
  {
   "cell_type": "code",
   "execution_count": null,
   "id": "badc576e-383f-4344-a91f-987cd935f5c9",
   "metadata": {},
   "outputs": [],
   "source": []
  }
 ],
 "metadata": {
  "kernelspec": {
   "display_name": "Octave",
   "language": "octave",
   "name": "octave"
  },
  "language_info": {
   "file_extension": ".m",
   "help_links": [
    {
     "text": "GNU Octave",
     "url": "https://www.gnu.org/software/octave/support.html"
    },
    {
     "text": "Octave Kernel",
     "url": "https://github.com/Calysto/octave_kernel"
    },
    {
     "text": "MetaKernel Magics",
     "url": "https://metakernel.readthedocs.io/en/latest/source/README.html"
    }
   ],
   "mimetype": "text/x-octave",
   "name": "octave",
   "version": "8.2.0"
  }
 },
 "nbformat": 4,
 "nbformat_minor": 5
}
